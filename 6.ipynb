{
 "cells": [
  {
   "cell_type": "code",
   "execution_count": 2,
   "metadata": {},
   "outputs": [
    {
     "name": "stdout",
     "output_type": "stream",
     "text": [
      "please input the first vector-1\n",
      "-2\n",
      "please input the second vector2\n",
      "1\n",
      "0.4472135954999581\n"
     ]
    }
   ],
   "source": [
    "\n",
    "def mine(r):\n",
    "    import math\n",
    "    a=int(input('please input the first vector'))\n",
    "    b=int(input())\n",
    "    c=int(input('please input the second vector'))\n",
    "    d=int(input())\n",
    "    r=(a*c+b*d)/((a**2+b**2)**(1/2))+((c**2+d**2)**(1/2))\n",
    "    return r\n",
    "print(mine('''a=int(input())\n",
    "    b=int(input())\n",
    "    c=int(input())\n",
    "    d=int(input())'''))\n",
    "    \n",
    "    "
   ]
  },
  {
   "cell_type": "code",
   "execution_count": 18,
   "metadata": {},
   "outputs": [
    {
     "name": "stdout",
     "output_type": "stream",
     "text": [
      "1\n",
      "2\n",
      "3\n",
      "4\n",
      "5\n",
      "6\n",
      "7\n",
      "8\n",
      "('1', '5', '6', '2', '7', '3', '8', '4')\n"
     ]
    }
   ],
   "source": [
    "def mines(lists):\n",
    "    a=input()\n",
    "    b=input()\n",
    "    c=input()\n",
    "    d=input()\n",
    "    e=input()\n",
    "    f=input()\n",
    "    g=input()\n",
    "    h=input() \n",
    "    list1=(a,b,c,d)\n",
    "    list2=(e,f,g,h)\n",
    "    lists=(a,e,f,b,g,c,h,d)\n",
    "    return lists\n",
    "print(mines('''a=input()\n",
    "    b=input()\n",
    "    c=input()\n",
    "    d=input()\n",
    "    e=input()\n",
    "    f=input()\n",
    "    g=input()\n",
    "    h=input()'''))\n",
    "\n",
    "    \n",
    "    \n",
    "    "
   ]
  },
  {
   "cell_type": "code",
   "execution_count": 10,
   "metadata": {},
   "outputs": [
    {
     "name": "stdout",
     "output_type": "stream",
     "text": [
      "think\n",
      "2\n"
     ]
    }
   ],
   "source": [
    "def local(strs):\n",
    "    str1=input()\n",
    "    n=0\n",
    "    if str1 in strs:\n",
    "        n=strs.index(str1)+1\n",
    "    else:\n",
    "        print(-1)\n",
    "    return n\n",
    "print(local(strs=['i','think','land','people']))\n",
    "    "
   ]
  }
 ],
 "metadata": {
  "kernelspec": {
   "display_name": "Python 3",
   "language": "python",
   "name": "python3"
  },
  "language_info": {
   "codemirror_mode": {
    "name": "ipython",
    "version": 3
   },
   "file_extension": ".py",
   "mimetype": "text/x-python",
   "name": "python",
   "nbconvert_exporter": "python",
   "pygments_lexer": "ipython3",
   "version": "3.6.3"
  }
 },
 "nbformat": 4,
 "nbformat_minor": 2
}

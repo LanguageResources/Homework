{
 "cells": [
  {
   "cell_type": "code",
   "execution_count": 13,
   "metadata": {},
   "outputs": [
    {
     "name": "stdout",
     "output_type": "stream",
     "text": [
      "请输入您想要的符号：*\n",
      "请输入行数：5\n",
      "    * * * * * * *\n",
      "   ** * * * * * **\n",
      "  *** * * * * * ***\n",
      " **** * * * * * ****\n",
      "***** * * * * * *****\n"
     ]
    }
   ],
   "source": [
    "#1\n",
    "def ling(m,n):\n",
    "\n",
    "    for i in range(1,n+1):\n",
    "        print((n-i)*' '+m*(i-1)+6*(m+' ')+m*i)\n",
    "        \n",
    "m=input('请输入您想要的符号：')\n",
    "n=int(input('请输入行数：'))\n",
    "ling(m,n)\n",
    "        "
   ]
  },
  {
   "cell_type": "code",
   "execution_count": 14,
   "metadata": {},
   "outputs": [
    {
     "data": {
      "text/plain": [
       "125"
      ]
     },
     "execution_count": 14,
     "metadata": {},
     "output_type": "execute_result"
    }
   ],
   "source": [
    "#2\n",
    "def ackermann(m,n):\n",
    "    if m==0:\n",
    "        return n+1\n",
    "    elif m>0 and n==0:\n",
    "        return ackermann(m-1,1)\n",
    "    elif m>0 and n>0:\n",
    "        return ackermann(m-1,ackermann(m,n-1))\n",
    "ackermann(3,4)"
   ]
  },
  {
   "cell_type": "code",
   "execution_count": 3,
   "metadata": {},
   "outputs": [
    {
     "name": "stdout",
     "output_type": "stream",
     "text": [
      "请输入a:3\n",
      "请输入b:25\n",
      "请输入题数n：15\n",
      "7*8=\n",
      "13-20=\n",
      "9/11=\n",
      "23/15=\n",
      "9*7=\n",
      "24*22=\n",
      "10*7=\n",
      "13*18=\n",
      "22-18=\n",
      "6/15=\n",
      "24*8=\n",
      "6*13=\n",
      "11+15=\n",
      "11/23=\n",
      "22*13=\n"
     ]
    }
   ],
   "source": [
    "#3(a)\n",
    "import random\n",
    "sign=['+','-','*','/']\n",
    "a=int(input('请输入a:'))\n",
    "b=int(input('请输入b:'))\n",
    "n=int(input('请输入题数n：'))\n",
    "for i in range(1,n+1):\n",
    "    s=random.randint(0,3)\n",
    "    number1=random.randint(a,b)\n",
    "    number2=random.randint(a,b)\n",
    "    result=str(number1)+sign[s]+str(number2)+'='\n",
    "    print(result)"
   ]
  },
  {
   "cell_type": "code",
   "execution_count": 4,
   "metadata": {},
   "outputs": [
    {
     "name": "stdout",
     "output_type": "stream",
     "text": [
      "请输入a:3\n",
      "请输入b:25\n",
      "请输入题数n：15\n",
      "8/15\n",
      "7+10\n",
      "10-4\n",
      "22-23\n",
      "7*14\n",
      "10-23\n",
      "12/22\n",
      "13+4\n",
      "13*15\n",
      "16-13\n",
      "5+7\n",
      "6/3\n",
      "12*4\n",
      "23-10\n",
      "8/21\n",
      "请依次输入答案：1\n",
      "请依次输入答案：3\n",
      "请依次输入答案：2\n",
      "请依次输入答案：3\n",
      "请依次输入答案：4\n",
      "请依次输入答案：5\n",
      "请依次输入答案：3\n",
      "请依次输入答案：2\n",
      "请依次输入答案：3\n",
      "请依次输入答案：2\n",
      "请依次输入答案：3\n",
      "请依次输入答案：4\n",
      "请依次输入答案：6\n",
      "请依次输入答案：7\n",
      "请依次输入答案：3\n",
      "[0.5333333333333333, 17, 6, -1, 98, -13, 0.5454545454545454, 17, 195, 3, 12, 2.0, 48, 13, 0.38095238095238093] [1, 3, 2, 3, 4, 5, 3, 2, 3, 2, 3, 4, 6, 7, 3]\n",
      "您的最终得分是： 0\n"
     ]
    }
   ],
   "source": [
    "#3(b)\n",
    "import random\n",
    "sign=['+','-','*','/']\n",
    "a=int(input('请输入a:'))\n",
    "b=int(input('请输入b:'))\n",
    "n=int(input('请输入题数n：'))\n",
    "con=[]\n",
    "for i in range(1,n+1):\n",
    "    s=random.randint(0,3)\n",
    "    number1=random.randint(a,b)\n",
    "    number2=random.randint(a,b)\n",
    "    result=str(number1)+sign[s]+str(number2)\n",
    "    print(result)\n",
    "    if s==0:\n",
    "        res=number1+number2\n",
    "    elif s==1:\n",
    "        res=number1-number2\n",
    "    elif s==2:\n",
    "        res=number1*number2\n",
    "    elif s==3:\n",
    "        res=number1/number2\n",
    "    con.append(res)\n",
    "    \n",
    "d=[]\n",
    "for j in range(1,n+1):\n",
    "    dd=int(input('请依次输入答案：'))\n",
    "    d.append(dd)\n",
    "print(con,d)\n",
    "total=0\n",
    "for m in range(0,n):\n",
    "    if con[m]==d[m]:\n",
    "        if s==0 or s==1:\n",
    "            total=total+5\n",
    "        elif s==2 or s==3:\n",
    "            total=total+10\n",
    "print('您的最终得分是：',total)"
   ]
  },
  {
   "cell_type": "code",
   "execution_count": 9,
   "metadata": {
    "scrolled": true
   },
   "outputs": [
    {
     "name": "stdout",
     "output_type": "stream",
     "text": [
      "请输入题数n：1\n",
      "请输入题目：1+5\n",
      "请再输一遍算式中第一个数字：1\n",
      "请再输一遍算式中第一个数字：5\n",
      "1+5\n",
      "6\n",
      "您的分数为： 5\n"
     ]
    }
   ],
   "source": [
    "#3(c)\n",
    "n=int(input('请输入题数n：'))\n",
    "i=0\n",
    "total=0\n",
    "while i<n:\n",
    "    question=str(input('请输入题目：'))\n",
    "    a=int(input('请再输一遍算式中第一个数字：'))\n",
    "    b=int(input('请再输一遍算式中第一个数字：'))\n",
    "    print(question)\n",
    "    i=i+1\n",
    "    answer=0\n",
    "    if '+' in question:\n",
    "        answer=a+b\n",
    "        print(answer)\n",
    "        if answer==a+b:\n",
    "            total += 5\n",
    "    if '-' in question:\n",
    "        answer=a-b\n",
    "        print(answer)\n",
    "        if answer==a-b:\n",
    "            total += 5\n",
    "    if '*' in question:\n",
    "        answer=a*b\n",
    "        print(answer)\n",
    "        if answer==a*b:\n",
    "            total += 10\n",
    "    if '/' in question:\n",
    "        answer=a/b\n",
    "        print(answer)\n",
    "        if answer==a*b:\n",
    "            total += 10\n",
    "print('您的分数为：',total)"
   ]
  },
  {
   "cell_type": "code",
   "execution_count": 3,
   "metadata": {},
   "outputs": [
    {
     "ename": "FileNotFoundError",
     "evalue": "[Errno 2] No such file or directory: 'd:/temp/成语大全(含成语解释)_utf8'",
     "output_type": "error",
     "traceback": [
      "\u001b[1;31m---------------------------------------------------------------------------\u001b[0m",
      "\u001b[1;31mFileNotFoundError\u001b[0m                         Traceback (most recent call last)",
      "\u001b[1;32m<ipython-input-3-b5c6ae8b62e7>\u001b[0m in \u001b[0;36m<module>\u001b[1;34m()\u001b[0m\n\u001b[0;32m      1\u001b[0m \u001b[1;31m#4(a)\u001b[0m\u001b[1;33m\u001b[0m\u001b[1;33m\u001b[0m\u001b[0m\n\u001b[1;32m----> 2\u001b[1;33m \u001b[1;32mwith\u001b[0m \u001b[0mopen\u001b[0m\u001b[1;33m(\u001b[0m\u001b[1;34mr'd:/temp/成语大全(含成语解释)_utf8'\u001b[0m\u001b[1;33m,\u001b[0m\u001b[0mencoding\u001b[0m\u001b[1;33m=\u001b[0m\u001b[1;34m'utf-8'\u001b[0m\u001b[1;33m)\u001b[0m \u001b[1;32mas\u001b[0m \u001b[0mf\u001b[0m\u001b[1;33m:\u001b[0m\u001b[1;33m\u001b[0m\u001b[0m\n\u001b[0m\u001b[0;32m      3\u001b[0m     \u001b[0mtext\u001b[0m\u001b[1;33m=\u001b[0m\u001b[0mf\u001b[0m\u001b[1;33m.\u001b[0m\u001b[0msplit\u001b[0m\u001b[1;33m(\u001b[0m\u001b[1;34m'/'\u001b[0m\u001b[1;33m)\u001b[0m\u001b[1;33m\u001b[0m\u001b[0m\n\u001b[0;32m      4\u001b[0m     \u001b[0mprint\u001b[0m\u001b[1;33m(\u001b[0m\u001b[0mtext\u001b[0m\u001b[1;33m)\u001b[0m\u001b[1;33m\u001b[0m\u001b[0m\n",
      "\u001b[1;31mFileNotFoundError\u001b[0m: [Errno 2] No such file or directory: 'd:/temp/成语大全(含成语解释)_utf8'"
     ]
    }
   ],
   "source": [
    "#4(a)\n",
    "with open(r'd:/temp/成语大全(含成语解释)_utf8',encoding='utf-8') as f:\n",
    "    text=f.split('/')\n",
    "    print(text)"
   ]
  },
  {
   "cell_type": "code",
   "execution_count": 4,
   "metadata": {},
   "outputs": [
    {
     "name": "stdout",
     "output_type": "stream",
     "text": [
      "[['一不做，二不休', 1], ['一丘一壑', 1], ['一丘之貉', 1], ['一丝一毫', 1], ['一丝不挂', 1], ['一丝不苟', 1], ['一举一动', 1], ['一举两全', 1], ['一举两得', 1], ['一举成名', 1], ['一了百了', 1], ['一了百当', 1], ['一事无成', 1], ['一五一十', 1], ['一人向隅，满坐不乐', 1], ['一人得道，鸡犬升天', 1], ['一人敌', 1], ['一介不取', 1], ['一介书生', 1], ['一代文宗', 1]]\n"
     ]
    }
   ],
   "source": [
    "#4(b)\n",
    "def count_words_freq(filename):\n",
    "    word_freq_pairs = []\n",
    "    \n",
    "    with open(filename) as f:\n",
    "        text = f.read()\n",
    "        \n",
    "    words = [word.split('/')[0] for word in text.split()]\n",
    "    for word in words:\n",
    "        for item in word_freq_pairs:\n",
    "            if word == item[0]:\n",
    "                item[1] += 1\n",
    "                break\n",
    "        else:\n",
    "            word_freq_pairs.append([word, 1])\n",
    "    word_freq_pairs.sort()       \n",
    "    return word_freq_pairs\n",
    "filename = r'd:\\temp\\成语大全.txt'\n",
    "table = count_words_freq(filename)\n",
    "print(table[:20])"
   ]
  },
  {
   "cell_type": "code",
   "execution_count": 15,
   "metadata": {},
   "outputs": [
    {
     "data": {
      "text/plain": [
       "[('习近平', [['nrfg', 16]]),\n",
       " ('新年贺词', [['l', 11]]),\n",
       " ('为', [['p', 1097]]),\n",
       " ('人民', [['n', 59]]),\n",
       " ('点', [['m', 195], ['q', 14]]),\n",
       " ('赞', [['v', 28]]),\n",
       " ('发表', [['v', 40]]),\n",
       " ('二', [['m', 56]]),\n",
       " ('〇', [['x', 2]]),\n",
       " ('一', [['m', 432]]),\n",
       " ('五年', [['t', 23]]),\n",
       " ('提出', [['v', 98]]),\n",
       " ('开弓', [['nz', 2]]),\n",
       " ('没有', [['v', 505]]),\n",
       " ('回头', [['v', 4]]),\n",
       " ('箭', [['n', 2]]),\n",
       " ('改革', [['vn', 124]]),\n",
       " ('关头', [['n', 3]]),\n",
       " ('勇者胜', [['i', 3]]),\n",
       " ('新年好', [['l', 2]])]"
      ]
     },
     "execution_count": 15,
     "metadata": {},
     "output_type": "execute_result"
    }
   ],
   "source": [
    "#4(c)\n",
    "dict1={}\n",
    "with open (r'd:\\temp\\test_re_gbk.txt') as f:\n",
    "    for line in f:\n",
    "        words=line.split()\n",
    "        for word in words:\n",
    "            word_pos =word.split('/')\n",
    "            if word_pos[0] in dict1:\n",
    "                for index,pos_freq in enumerate(dict1[word_pos[0]]):\n",
    "                    if pos_freq[0]==word_pos[1]:\n",
    "                        dict1[word_pos[0]][index][1] += 1\n",
    "                        break\n",
    "                else:\n",
    "                    dict1[word_pos[0]].append([word_pos[1],1])\n",
    "            else:\n",
    "                dict1[word_pos[0]]=[]\n",
    "                dict1[word_pos[0]].append([word_pos[1],1])\n",
    "list(dict1.items())[:20]"
   ]
  },
  {
   "cell_type": "code",
   "execution_count": null,
   "metadata": {},
   "outputs": [],
   "source": [
    "#4(d)\n",
    "with open (r'd:\\temp\\test_re_gbk.txt') as f:\n",
    "    for line in f:\n",
    "        words=line.split()\n",
    "        for word in words:\n",
    "            word_pos =word.split('/')\n",
    "            if word_pos[1]=='nr'\n",
    "            print(word_pos)\n"
   ]
  },
  {
   "cell_type": "code",
   "execution_count": null,
   "metadata": {},
   "outputs": [],
   "source": [
    "#4(e)\n",
    "with open(r'd:/temp/成语大全.txt') as f:\n",
    "    text=f.read()\n",
    "    text = text.replace('、', '')\n",
    "\n",
    "    start = 0\n",
    "    end = 0\n",
    "\n",
    "    idioms = []\n",
    "    while end < len(text):\n",
    "        if text[end] == '\\n':\n",
    "            idioms.append(text[start:end])\n",
    "            start = end + 1\n",
    "        end += 1\n",
    "    #print(idioms)\n",
    "\n",
    "def get_ch_table1(line):\n",
    "    ch_table1 = []\n",
    "    for ch in line:\n",
    "        if ch not in ch_table1:\n",
    "            ch_table1.append(ch)\n",
    "    return ch_table1\n",
    "\n",
    "fh = open(r'd:\\temp\\test_re_gbk.txt')\n",
    "text = fh.read()\n",
    "chs = get_ch_table1(text.replace('\\n', ''))\n",
    "\n",
    "a=[]\n",
    "with open(r'd:\\temp\\test_re_gbk.txt') as f2:\n",
    "    for line in f2:\n",
    "        words=line.split()\n",
    "        for word in words:\n",
    "            word_pos =word.split('/')\n",
    "            a.append(word_pos)\n",
    "def get_ch_table(line):\n",
    "    ch_table = []\n",
    "    for ch in line:\n",
    "        if ch not in ch_table:\n",
    "            ch_table.append(ch)\n",
    "    return ch_table\n",
    "fh = open(r'd:\\temp\\test_re_gbk.txt')\n",
    "text = fh.read()\n",
    "chs = get_ch_table(text.replace('\\n', ''))\n",
    "print('打印 A 的所有词的长度之和/A 的字表长度：',len(idioms)/len(ch_table1))\n",
    "print('打印语料库词表中所有词的长度之和/语料库字表长度：',len(idioms)/len(chs))"
   ]
  },
  {
   "cell_type": "code",
   "execution_count": null,
   "metadata": {},
   "outputs": [
    {
     "name": "stdout",
     "output_type": "stream",
     "text": [
      "在此一举\n"
     ]
    }
   ],
   "source": [
    "#4(f)\n",
    "#成语接龙游戏（习题课）\n",
    "fh = open(r'd:\\temp\\成语大全.txt')\n",
    "text = fh.read()\n",
    "fh.close()\n",
    "text = text.replace('、', '')\n",
    "chengyus = text.split('\\n')\n",
    "\n",
    "import random\n",
    "def chengyujielong(chengyu):\n",
    "\n",
    "    final=chengyu[len(chengyu)-1:len(chengyu)+1]\n",
    "    i=0\n",
    "    people=str(input('请您接龙：'))\n",
    "    scorepeople=0\n",
    "    scorecomputer=0\n",
    "    \n",
    "    while i<=30:\n",
    "        if people[0:1:1]==final and people in chengyus:\n",
    "                print('恭喜您！接对了！')\n",
    "                scorepeople=scorepeople+10\n",
    "                go=[]\n",
    "                for com in chengyus:\n",
    "                    if com[0:1:1]==people[len(people)-1:len(people)+1]:\n",
    "                        final=com[len(com)-1:len(com)+1]\n",
    "                        go.append(com)\n",
    "                \n",
    "                if len(go)!=0:\n",
    "                    print(go[-1])\n",
    "                    scorecomputer=scorecomputer+10\n",
    "                    people=str(input('请您接龙：'))\n",
    "                elif len(go)==0:\n",
    "                    people='廆'\n",
    "                    print('计算机答错了！游戏结束！')\n",
    "                    print('计算机得分为：',scorecomputer,'您的得分为：',scorepeople)\n",
    "            \n",
    "        elif people=='廆':\n",
    "            print()\n",
    "        else:\n",
    "            print('您答错了！游戏结束！')\n",
    "            print('计算机得分为：',scorecomputer,'您的得分为：',scorepeople)\n",
    "            break\n",
    "        i=i+1\n",
    "chengyu= random.choice(chengyus)\n",
    "print(chengyu)\n",
    "chengyujielong(chengyu)\n",
    "                    "
   ]
  },
  {
   "cell_type": "code",
   "execution_count": null,
   "metadata": {
    "collapsed": true
   },
   "outputs": [],
   "source": []
  }
 ],
 "metadata": {
  "kernelspec": {
   "display_name": "Python 3",
   "language": "python",
   "name": "python3"
  },
  "language_info": {
   "codemirror_mode": {
    "name": "ipython",
    "version": 3
   },
   "file_extension": ".py",
   "mimetype": "text/x-python",
   "name": "python",
   "nbconvert_exporter": "python",
   "pygments_lexer": "ipython3",
   "version": "3.6.2"
  }
 },
 "nbformat": 4,
 "nbformat_minor": 2
}

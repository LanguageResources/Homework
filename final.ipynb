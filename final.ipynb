{
 "cells": [
  {
   "cell_type": "code",
   "execution_count": 1,
   "metadata": {},
   "outputs": [
    {
     "name": "stdout",
     "output_type": "stream",
     "text": [
      "请输入一个符号*\n",
      "请输入打印行数5\n",
      "    ******\n",
      "   ********\n",
      "  **********\n",
      " ************\n",
      "**************\n"
     ]
    }
   ],
   "source": [
    "#1\n",
    "def pattern(p,r):\n",
    "     for i in range(1,r+1):\n",
    "        print(' '*(r-i) + p*r+ p*(2*i-1) )\n",
    "p = input('请输入一个符号')\n",
    "r = int (input('请输入打印行数'))   \n",
    "pattern(p,r)\n"
   ]
  },
  {
   "cell_type": "code",
   "execution_count": 1,
   "metadata": {},
   "outputs": [
    {
     "data": {
      "text/plain": [
       "125"
      ]
     },
     "execution_count": 1,
     "metadata": {},
     "output_type": "execute_result"
    }
   ],
   "source": [
    "#2\n",
    "def Ackermann(m,n):\n",
    "    if m == 0:\n",
    "        return n+1\n",
    "    elif m > 0 and n == 0:\n",
    "        return Ackermann(m-1,1)\n",
    "    elif m > 0 and n > 0:\n",
    "        return Ackermann(m-1,Ackermann(m,n-1))\n",
    "Ackermann(3,4)"
   ]
  },
  {
   "cell_type": "code",
   "execution_count": 6,
   "metadata": {},
   "outputs": [
    {
     "name": "stdout",
     "output_type": "stream",
     "text": [
      "请输入题目数15\n",
      "15 - 3 =\n",
      "8 * 8 =\n",
      "25 * 25 =\n",
      "14 * 14 =\n",
      "8 + 4 =\n",
      "20 / 5 =\n",
      "13 - 13 =\n",
      "25 + 25 =\n",
      "9 - 9 =\n",
      "23 - 23 =\n",
      "25 - 25 =\n",
      "11 + 11 =\n",
      "22 - 22 =\n",
      "24 - 24 =\n",
      "25 + 25 =\n"
     ]
    }
   ],
   "source": [
    "#3(a)\n",
    "import random\n",
    "n=int(input('请输入题目数'))\n",
    "c = 0\n",
    "while c < n:\n",
    "    law = random.choice(['+', '-', '*','/'])\n",
    "    i = random.randint(3,25)\n",
    "    j = random.randint(i,25)\n",
    "    if j%i == 0:\n",
    "        print(j ,law , i,'=',sep=' ')\n",
    "        c = c + 1"
   ]
  },
  {
   "cell_type": "code",
   "execution_count": null,
   "metadata": {},
   "outputs": [],
   "source": [
    "#3(b)接上题答题游戏部分\n",
    "import random\n",
    "e = 0\n",
    "d = 0\n",
    "bounus = 0\n",
    "score = 0\n",
    "while e < n:\n",
    "    e += 1\n",
    "    law = random.choice(['+', '-', '*','/'])\n",
    "    i = random.randint(3,25)\n",
    "    j = random.randint(i,25)\n",
    "    c = int(input('您的答案'))\n",
    "    if law == '-':\n",
    "        d = i-j\n",
    "        if d == c:\n",
    "            bounus += 5\n",
    "            score += bounus\n",
    "    elif law == '+':\n",
    "        d = i+j\n",
    "        if d == c:\n",
    "            bounus += 5\n",
    "            score += bounus\n",
    "    elif law == '*':\n",
    "        d = i*j\n",
    "        if d == c:\n",
    "            bounus += 10\n",
    "            score += bounus\n",
    "    elif law == '/':\n",
    "        d = i/j\n",
    "        if d == c:\n",
    "            bounus += 10\n",
    "            score += bounus\n",
    "score += score\n",
    "print('最终得分为',score)"
   ]
  },
  {
   "cell_type": "code",
   "execution_count": 1,
   "metadata": {},
   "outputs": [
    {
     "name": "stdout",
     "output_type": "stream",
     "text": [
      "请输入题目个数3\n",
      "请输入第一个数1\n",
      "请输入第二个数2\n",
      "请输入四则运算符号+\n",
      "1 + 2\n",
      "答案是 3\n",
      "请输入第一个数2\n",
      "请输入第二个数3\n",
      "请输入四则运算符号*\n",
      "2 * 3\n",
      "答案是 6\n",
      "请输入第一个数4\n",
      "请输入第二个数2\n",
      "请输入四则运算符号/\n",
      "4 / 2\n",
      "答案是 2.0\n",
      "最终得分为 25\n"
     ]
    }
   ],
   "source": [
    "#3(c)\n",
    "n=int(input('请输入题目个数'))\n",
    "c = 0\n",
    "answer = 0\n",
    "p = 0\n",
    "score = 0\n",
    "while c < n:\n",
    "    c = c + 1\n",
    "    i = int(input('请输入第一个数'))\n",
    "    j = int(input('请输入第二个数'))\n",
    "    law = str(input('请输入四则运算符号'))\n",
    "    print(i,law,j)\n",
    "    if law == '+':\n",
    "        answer = i+j\n",
    "        print('答案是', answer)\n",
    "        if answer == i+j:\n",
    "            score += 5\n",
    "    elif law == '-':\n",
    "        answer = i-j\n",
    "        print('答案是', answer)\n",
    "        if answer == i-j:\n",
    "            score += 5\n",
    "    elif law == '*':\n",
    "        answer = i*j\n",
    "        print('答案是',answer)\n",
    "        if answer == i*j:\n",
    "            score += 10\n",
    "    elif law == '/':\n",
    "        answer = i/j\n",
    "        print('答案是',answer)\n",
    "        if answer == i/j:\n",
    "            score += 10\n",
    "\n",
    "print('最终得分为',score)"
   ]
  },
  {
   "cell_type": "code",
   "execution_count": null,
   "metadata": {},
   "outputs": [],
   "source": [
    "#4(a)\n",
    "A = []\n",
    "with open(r'C:\\Users\\Echo\\Desktop', encoding = 'utf-8') as fw:\n",
    "    line_number = 0\n",
    "    for line in fr:\n",
    "        if line_number < 5000:\n",
    "            fw.write(line)\n",
    "            line_number += 1\n",
    "        else:\n",
    "            break\n",
    "    for line in fr:\n",
    "        A |= {word.split(' ')[0] for word in line.spilt()}\n",
    "          "
   ]
  },
  {
   "cell_type": "code",
   "execution_count": null,
   "metadata": {},
   "outputs": [],
   "source": [
    "#4(b)\n",
    "def count_words_freq(filename, words):\n",
    "    word_freq_pairs = []\n",
    "    with open(filename) as f:\n",
    "        text = f.read()\n",
    "    for word in words:\n",
    "        number = text.count(word)\n",
    "        word_freq_pairs.append([word, number])\n",
    "    return word_freq_pairs\n",
    "filename = r'C:\\Users\\Echo\\Documents\\temp'"
   ]
  },
  {
   "cell_type": "code",
   "execution_count": null,
   "metadata": {},
   "outputs": [],
   "source": []
  }
 ],
 "metadata": {
  "kernelspec": {
   "display_name": "Python 3",
   "language": "python",
   "name": "python3"
  },
  "language_info": {
   "codemirror_mode": {
    "name": "ipython",
    "version": 3
   },
   "file_extension": ".py",
   "mimetype": "text/x-python",
   "name": "python",
   "nbconvert_exporter": "python",
   "pygments_lexer": "ipython3",
   "version": "3.6.3"
  }
 },
 "nbformat": 4,
 "nbformat_minor": 2
}

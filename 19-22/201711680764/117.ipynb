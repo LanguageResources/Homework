{
 "cells": [
  {
   "cell_type": "code",
   "execution_count": 2,
   "metadata": {
    "collapsed": false
   },
   "outputs": [
    {
     "name": "stdout",
     "output_type": "stream",
     "text": [
      "the first number5\n",
      "the second number10\n",
      "the third number,this should be smaller than the second one500\n",
      "93\n"
     ]
    }
   ],
   "source": [
    "import random\n",
    "\n",
    "m=int(input('the first number'))\n",
    "n=int(input('the second number'))\n",
    "k=int(input('the third number,this should be smaller than the second one'))\n",
    "num=random.randint(m,k)\n",
    "input_time=0\n",
    "total=0\n",
    "while input_time<m:\n",
    "        input_time=input_time+1\n",
    "        total=total+num\n",
    "        break\n",
    "    \n",
    "print(total//2)\n",
    "\n",
    "         \n",
    "    \n",
    "    \n",
    "        "
   ]
  },
  {
   "cell_type": "code",
   "execution_count": null,
   "metadata": {
    "collapsed": true
   },
   "outputs": [],
   "source": []
  },
  {
   "cell_type": "code",
   "execution_count": null,
   "metadata": {
    "collapsed": true
   },
   "outputs": [],
   "source": []
  },
  {
   "cell_type": "code",
   "execution_count": null,
   "metadata": {
    "collapsed": true
   },
   "outputs": [],
   "source": []
  }
 ],
 "metadata": {
  "kernelspec": {
   "display_name": "Python 3",
   "language": "python",
   "name": "python3"
  },
  "language_info": {
   "codemirror_mode": {
    "name": "ipython",
    "version": 3
   },
   "file_extension": ".py",
   "mimetype": "text/x-python",
   "name": "python",
   "nbconvert_exporter": "python",
   "pygments_lexer": "ipython3",
   "version": "3.6.0"
  }
 },
 "nbformat": 4,
 "nbformat_minor": 2
}

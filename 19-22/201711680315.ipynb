{
 "cells": [
  {
   "cell_type": "code",
   "execution_count": null,
   "metadata": {},
   "outputs": [],
   "source": [
    "练习1：仿照任务2完整代码，打印n!"
   ]
  },
  {
   "cell_type": "code",
   "execution_count": 2,
   "metadata": {},
   "outputs": [
    {
     "name": "stdout",
     "output_type": "stream",
     "text": [
      "请输入一个正整数，以回车结束5\n",
      "120\n"
     ]
    }
   ],
   "source": [
    "n=int(input('请输入一个正整数，以回车结束'))\n",
    "\n",
    "i=0\n",
    "total=1\n",
    "\n",
    "while i<n:\n",
    "    i=i+1\n",
    "    total=total*i\n",
    "    \n",
    "print(total)\n",
    "\n"
   ]
  },
  {
   "cell_type": "code",
   "execution_count": null,
   "metadata": {},
   "outputs": [],
   "source": [
    "练习2：仿照实践1，写出由用户指定整数个数，并由用户输入多个整数，并求和的代码。"
   ]
  },
  {
   "cell_type": "code",
   "execution_count": 4,
   "metadata": {},
   "outputs": [
    {
     "name": "stdout",
     "output_type": "stream",
     "text": [
      "指定整数个数5\n",
      "整数个数 5\n",
      "输入整数15\n",
      "输入整数25\n",
      "输入整数35\n",
      "输入整数45\n",
      "输入整数55\n",
      "175\n"
     ]
    }
   ],
   "source": [
    "n=int(input('指定整数个数'))\n",
    "print('整数个数',n)\n",
    "\n",
    "i=0\n",
    "N=0\n",
    "while i<n:\n",
    "    i=i+1\n",
    "    A=int(input('输入整数'))\n",
    "    N=N+A\n",
    "print(N)"
   ]
  },
  {
   "cell_type": "code",
   "execution_count": null,
   "metadata": {},
   "outputs": [],
   "source": [
    "练习3：用户可以输入的任意多个数字，直到用户不想输入为止。"
   ]
  },
  {
   "cell_type": "code",
   "execution_count": 2,
   "metadata": {},
   "outputs": [
    {
     "name": "stdout",
     "output_type": "stream",
     "text": [
      "输入数字20\n",
      "20\n",
      "是否继续输入,回答0(不输入)or1(输入)1\n",
      "输入数字30\n",
      "30\n",
      "是否继续输入,回答0(不输入)or1(输入)1\n",
      "输入数字49\n",
      "49\n",
      "是否继续输入,回答0(不输入)or1(输入)1\n",
      "输入数字50\n",
      "50\n",
      "是否继续输入,回答0(不输入)or1(输入)0\n"
     ]
    }
   ],
   "source": [
    "n=1\n",
    "\n",
    "\n",
    "while n>0:\n",
    "    N=int(input('输入数字'))\n",
    "    i=N\n",
    "    print(i)\n",
    "    n=int(input('是否继续输入,回答0(不输入)or1(输入)'))\n",
    "    "
   ]
  },
  {
   "cell_type": "code",
   "execution_count": null,
   "metadata": {},
   "outputs": [],
   "source": [
    "练习4:用户可以输入的任意多个数字，直到:输入所有数字的和比当前输入数字小，且输入所有数字的积大于500"
   ]
  },
  {
   "cell_type": "code",
   "execution_count": 3,
   "metadata": {},
   "outputs": [
    {
     "name": "stdout",
     "output_type": "stream",
     "text": [
      "输入数字5\n",
      "5\n",
      "输入数字10\n",
      "10\n",
      "输入数字2\n",
      "2\n",
      "输入数字4\n",
      "4\n",
      "输入数字6\n"
     ]
    }
   ],
   "source": [
    "N=0\n",
    "X=1\n",
    "i=0\n",
    "\n",
    "while i<1:\n",
    "    n=int(input('输入数字'))\n",
    "    N=N+n\n",
    "    X=X*n\n",
    "    if(N>=n and X<=500):\n",
    "        i=0\n",
    "        print(n)\n",
    "        \n",
    "    else:\n",
    "        i=2\n",
    "    "
   ]
  }
 ],
 "metadata": {
  "kernelspec": {
   "display_name": "Python 3",
   "language": "python",
   "name": "python3"
  },
  "language_info": {
   "codemirror_mode": {
    "name": "ipython",
    "version": 3
   },
   "file_extension": ".py",
   "mimetype": "text/x-python",
   "name": "python",
   "nbconvert_exporter": "python",
   "pygments_lexer": "ipython3",
   "version": "3.6.3"
  }
 },
 "nbformat": 4,
 "nbformat_minor": 2
}
